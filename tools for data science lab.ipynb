{
 "cells": [
  {
   "cell_type": "markdown",
   "id": "4c62cd09",
   "metadata": {},
   "source": [
    "Tools for data science lab graded assignment"
   ]
  },
  {
   "cell_type": "markdown",
   "id": "5c633665",
   "metadata": {},
   "source": [
    "INTRODUCTION: In this lab exercise we will get to learn about the basic operations which can be done in a jupyter notebook."
   ]
  },
  {
   "cell_type": "markdown",
   "id": "10343178",
   "metadata": {},
   "source": [
    "data science languages are python,R,SQL,Scala,Julia,Java"
   ]
  },
  {
   "cell_type": "markdown",
   "id": "a3b8f635",
   "metadata": {},
   "source": [
    "data science libraries are scikit learn, tensorflow, pytorch, numpy, pandas ,"
   ]
  },
  {
   "cell_type": "markdown",
   "id": "c70c2d8d",
   "metadata": {},
   "source": [
    "The tools for data science are Apache Spark,IBM SPSS,Julia,Jupyter notebook,Keras,Matlab."
   ]
  },
  {
   "cell_type": "markdown",
   "id": "b0a08ffa",
   "metadata": {},
   "source": [
    "the introduction to arithmetic expression is 3*4+5"
   ]
  },
  {
   "cell_type": "code",
   "execution_count": 1,
   "id": "b8408972",
   "metadata": {},
   "outputs": [
    {
     "data": {
      "text/plain": [
       "5"
      ]
     },
     "execution_count": 1,
     "metadata": {},
     "output_type": "execute_result"
    }
   ],
   "source": [
    "2+3 # to add numbers"
   ]
  },
  {
   "cell_type": "code",
   "execution_count": 2,
   "id": "4404b9f8",
   "metadata": {},
   "outputs": [
    {
     "data": {
      "text/plain": [
       "6"
      ]
     },
     "execution_count": 2,
     "metadata": {},
     "output_type": "execute_result"
    }
   ],
   "source": [
    "2*3 # to multiply numbers"
   ]
  },
  {
   "cell_type": "code",
   "execution_count": 3,
   "id": "b0d97f47",
   "metadata": {},
   "outputs": [
    {
     "data": {
      "text/plain": [
       "3.0"
      ]
     },
     "execution_count": 3,
     "metadata": {},
     "output_type": "execute_result"
    }
   ],
   "source": [
    "# to convert minutes to hours\n",
    "minutes= 180\n",
    "hours= minutes/60\n",
    "hours"
   ]
  },
  {
   "cell_type": "markdown",
   "id": "18583cf5",
   "metadata": {},
   "source": [
    "the objective of this exercise is to know about basic operations of jupyter notebook, basic arithmetic commands and to know about the tools , languages , libraries used for data science."
   ]
  },
  {
   "cell_type": "markdown",
   "id": "e13f6ba4",
   "metadata": {},
   "source": [
    "the author's name is Annugraha."
   ]
  },
  {
   "cell_type": "code",
   "execution_count": null,
   "id": "4c18ee06",
   "metadata": {},
   "outputs": [],
   "source": []
  }
 ],
 "metadata": {
  "kernelspec": {
   "display_name": "Python 3 (ipykernel)",
   "language": "python",
   "name": "python3"
  },
  "language_info": {
   "codemirror_mode": {
    "name": "ipython",
    "version": 3
   },
   "file_extension": ".py",
   "mimetype": "text/x-python",
   "name": "python",
   "nbconvert_exporter": "python",
   "pygments_lexer": "ipython3",
   "version": "3.9.7"
  }
 },
 "nbformat": 4,
 "nbformat_minor": 5
}
